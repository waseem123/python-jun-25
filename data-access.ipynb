{
 "cells": [
  {
   "cell_type": "code",
   "execution_count": 3,
   "id": "83e837b0-c564-4899-8bde-f8f732335c9e",
   "metadata": {},
   "outputs": [
    {
     "data": {
      "text/plain": [
       "array([[[10, 20, 30]]])"
      ]
     },
     "execution_count": 3,
     "metadata": {},
     "output_type": "execute_result"
    }
   ],
   "source": [
    "import numpy as np\n",
    "arr = np.array(\n",
    "    [\n",
    "        [\n",
    "            [\n",
    "                10,20,30\n",
    "            ]\n",
    "        ]\n",
    "    ]\n",
    ")\n",
    "arr"
   ]
  },
  {
   "cell_type": "code",
   "execution_count": 4,
   "id": "eb4e07b7-e64e-4b25-98cf-d6fe43feff3c",
   "metadata": {},
   "outputs": [
    {
     "data": {
      "text/plain": [
       "3"
      ]
     },
     "execution_count": 4,
     "metadata": {},
     "output_type": "execute_result"
    }
   ],
   "source": [
    "arr.ndim"
   ]
  },
  {
   "cell_type": "code",
   "execution_count": 5,
   "id": "8939ba7d-1a9c-459c-a607-4770ecf97ec8",
   "metadata": {},
   "outputs": [],
   "source": [
    "arr = np.array([100,200,300,400,500],ndmin=7)"
   ]
  },
  {
   "cell_type": "code",
   "execution_count": 6,
   "id": "ee0c1a27-2a31-4fdb-9529-ffba7423493b",
   "metadata": {},
   "outputs": [
    {
     "data": {
      "text/plain": [
       "array([[[[[[[100, 200, 300, 400, 500]]]]]]])"
      ]
     },
     "execution_count": 6,
     "metadata": {},
     "output_type": "execute_result"
    }
   ],
   "source": [
    "arr"
   ]
  },
  {
   "cell_type": "code",
   "execution_count": 7,
   "id": "30dd2d4d-2ad8-4813-8240-08da268d0c0e",
   "metadata": {},
   "outputs": [
    {
     "data": {
      "text/plain": [
       "7"
      ]
     },
     "execution_count": 7,
     "metadata": {},
     "output_type": "execute_result"
    }
   ],
   "source": [
    "arr.ndim"
   ]
  },
  {
   "cell_type": "code",
   "execution_count": 8,
   "id": "0f7bbbbc-4420-4c3f-8724-21671173f468",
   "metadata": {},
   "outputs": [
    {
     "name": "stdout",
     "output_type": "stream",
     "text": [
      "7\n"
     ]
    }
   ],
   "source": [
    "myarray = np.array([\n",
    "    'Solapur','Pune','Mumbai','Chennai','Kolkata','Lucknow','Banaras'\n",
    "])\n",
    "\n",
    "print(len(myarray))"
   ]
  },
  {
   "cell_type": "code",
   "execution_count": 10,
   "id": "59e6a2b9-d68d-4f41-bc0e-d725cd6173c7",
   "metadata": {},
   "outputs": [
    {
     "name": "stdout",
     "output_type": "stream",
     "text": [
      "Solapur\n",
      "Mumbai\n",
      "Lucknow\n",
      "Banaras\n"
     ]
    }
   ],
   "source": [
    "print(myarray[0])\n",
    "print(myarray[2])\n",
    "print(myarray[5])\n",
    "print(myarray[6])"
   ]
  },
  {
   "cell_type": "code",
   "execution_count": 17,
   "id": "0b7956c5-3a68-4b79-bbae-7b8df2073c99",
   "metadata": {},
   "outputs": [
    {
     "name": "stdout",
     "output_type": "stream",
     "text": [
      "2\n"
     ]
    }
   ],
   "source": [
    "cities = np.array(\n",
    "    [\n",
    "        ['Solapur','Pune','Mumbai',],\n",
    "        ['Chennai','Kolkata','Delhi'],\n",
    "        ['Lucknow','Banaras','Bengaluru']\n",
    "    ]\n",
    ")\n",
    "print(cities.ndim)"
   ]
  },
  {
   "cell_type": "code",
   "execution_count": 18,
   "id": "5b6ef3f6-ce98-4d57-9acd-7391da29589e",
   "metadata": {},
   "outputs": [
    {
     "name": "stdout",
     "output_type": "stream",
     "text": [
      "3\n",
      "3\n",
      "3\n",
      "3\n"
     ]
    }
   ],
   "source": [
    "print(len(cities))\n",
    "print(len(cities[0]))\n",
    "print(len(cities[1]))\n",
    "print(len(cities[2]))"
   ]
  },
  {
   "cell_type": "code",
   "execution_count": 20,
   "id": "54020980-1a76-4daa-8fd0-e10afd88c424",
   "metadata": {},
   "outputs": [
    {
     "name": "stdout",
     "output_type": "stream",
     "text": [
      "['Solapur' 'Pune' 'Mumbai']\n",
      "['Chennai' 'Kolkata' 'Delhi']\n",
      "['Lucknow' 'Banaras' 'Bengaluru']\n"
     ]
    }
   ],
   "source": [
    "print(cities[0])\n",
    "print(cities[1])\n",
    "print(cities[2])"
   ]
  },
  {
   "cell_type": "code",
   "execution_count": 32,
   "id": "680c353b-7142-4173-8ad4-6d100c14c6cf",
   "metadata": {},
   "outputs": [
    {
     "name": "stdout",
     "output_type": "stream",
     "text": [
      "Solapur\n",
      "Mumbai\n",
      "Delhi\n",
      "Banaras\n",
      "Pune P\n"
     ]
    }
   ],
   "source": [
    "print(cities[0,0])\n",
    "print(cities[0,2])\n",
    "print(cities[1,2])\n",
    "print(cities[2,1])\n",
    "# print(cities[0,1][0])\n",
    "city = cities[0,1]\n",
    "print(city,city[0])"
   ]
  },
  {
   "cell_type": "code",
   "execution_count": 36,
   "id": "9207cb28-d48c-4913-b1dc-062d02dcd7f1",
   "metadata": {},
   "outputs": [
    {
     "data": {
      "text/plain": [
       "3"
      ]
     },
     "execution_count": 36,
     "metadata": {},
     "output_type": "execute_result"
    }
   ],
   "source": [
    "cities = np.array(\n",
    "    [\n",
    "        ['Solapur', 'Pune', 'Mumbai'],\n",
    "        ['Chennai', 'Kolkata', 'Delhi'],\n",
    "        ['Lucknow', 'Banaras', 'Bengaluru'],\n",
    "    ],ndmin = 3\n",
    ")\n",
    "cities.ndim"
   ]
  },
  {
   "cell_type": "code",
   "execution_count": 37,
   "id": "cdd1cc49-7c0a-4d71-ba70-4e665d16a2cf",
   "metadata": {},
   "outputs": [
    {
     "data": {
      "text/plain": [
       "array([[['Solapur', 'Pune', 'Mumbai'],\n",
       "        ['Chennai', 'Kolkata', 'Delhi'],\n",
       "        ['Lucknow', 'Banaras', 'Bengaluru']]], dtype='<U9')"
      ]
     },
     "execution_count": 37,
     "metadata": {},
     "output_type": "execute_result"
    }
   ],
   "source": [
    "cities"
   ]
  },
  {
   "cell_type": "code",
   "execution_count": 38,
   "id": "b5e2b143-0b02-4976-b036-18b4e2e69f73",
   "metadata": {},
   "outputs": [
    {
     "data": {
      "text/plain": [
       "1"
      ]
     },
     "execution_count": 38,
     "metadata": {},
     "output_type": "execute_result"
    }
   ],
   "source": [
    "len(cities)"
   ]
  },
  {
   "cell_type": "code",
   "execution_count": 39,
   "id": "d71c35ba-ba9d-48aa-8d10-1d7ef68a5c46",
   "metadata": {},
   "outputs": [
    {
     "name": "stdout",
     "output_type": "stream",
     "text": [
      "[['Solapur' 'Pune' 'Mumbai']\n",
      " ['Chennai' 'Kolkata' 'Delhi']\n",
      " ['Lucknow' 'Banaras' 'Bengaluru']]\n"
     ]
    }
   ],
   "source": [
    "print(cities[0])"
   ]
  },
  {
   "cell_type": "code",
   "execution_count": 41,
   "id": "b9556e2f-8834-40e8-970e-74a33967b167",
   "metadata": {},
   "outputs": [
    {
     "name": "stdout",
     "output_type": "stream",
     "text": [
      "Delhi\n"
     ]
    }
   ],
   "source": [
    "print(cities[0,1,2])"
   ]
  },
  {
   "cell_type": "code",
   "execution_count": 43,
   "id": "646283d9-9eda-4507-91ca-3f272f741271",
   "metadata": {},
   "outputs": [
    {
     "name": "stdout",
     "output_type": "stream",
     "text": [
      "Banaras\n"
     ]
    }
   ],
   "source": [
    "print(cities[0,2,1])"
   ]
  },
  {
   "cell_type": "code",
   "execution_count": 45,
   "id": "2c5044f7-5e3d-40bc-bd19-fd4885301525",
   "metadata": {},
   "outputs": [
    {
     "name": "stdout",
     "output_type": "stream",
     "text": [
      "u\n"
     ]
    }
   ],
   "source": [
    "print(cities[0,2,2][-1])"
   ]
  },
  {
   "cell_type": "code",
   "execution_count": 46,
   "id": "c9913a30-9ba4-467e-b51a-790112631e4b",
   "metadata": {},
   "outputs": [
    {
     "name": "stdout",
     "output_type": "stream",
     "text": [
      "l\n"
     ]
    }
   ],
   "source": [
    "print(cities[0,1,2][2])"
   ]
  }
 ],
 "metadata": {
  "kernelspec": {
   "display_name": "Python [conda env:anaconda3]",
   "language": "python",
   "name": "conda-env-anaconda3-py"
  },
  "language_info": {
   "codemirror_mode": {
    "name": "ipython",
    "version": 3
   },
   "file_extension": ".py",
   "mimetype": "text/x-python",
   "name": "python",
   "nbconvert_exporter": "python",
   "pygments_lexer": "ipython3",
   "version": "3.13.5"
  }
 },
 "nbformat": 4,
 "nbformat_minor": 5
}
