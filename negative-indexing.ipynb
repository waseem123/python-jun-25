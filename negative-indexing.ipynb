{
 "cells": [
  {
   "cell_type": "code",
   "execution_count": 2,
   "id": "2cd40a59-a659-496f-9a96-94047419e416",
   "metadata": {},
   "outputs": [],
   "source": [
    "import numpy as np"
   ]
  },
  {
   "cell_type": "code",
   "execution_count": 3,
   "id": "57798066-ff27-4ed7-97b0-f124883948c6",
   "metadata": {},
   "outputs": [
    {
     "name": "stdout",
     "output_type": "stream",
     "text": [
      "[ 100  200  300  400  500  600  700  800  900 1000]\n"
     ]
    }
   ],
   "source": [
    "myarr = np.array([100,200,300,400,500,600,700,800,900,1000])\n",
    "print(myarr)"
   ]
  },
  {
   "cell_type": "code",
   "execution_count": 7,
   "id": "49f96fc4-8b82-4f63-80a3-1f2adbbdda40",
   "metadata": {},
   "outputs": [
    {
     "name": "stdout",
     "output_type": "stream",
     "text": [
      "1000\n",
      "600\n",
      "100\n",
      "600\n"
     ]
    }
   ],
   "source": [
    "print(myarr[-1])\n",
    "print(myarr[-5])\n",
    "print(myarr[-10])\n",
    "print(myarr[-20+15])"
   ]
  }
 ],
 "metadata": {
  "kernelspec": {
   "display_name": "Python [conda env:anaconda3]",
   "language": "python",
   "name": "conda-env-anaconda3-py"
  },
  "language_info": {
   "codemirror_mode": {
    "name": "ipython",
    "version": 3
   },
   "file_extension": ".py",
   "mimetype": "text/x-python",
   "name": "python",
   "nbconvert_exporter": "python",
   "pygments_lexer": "ipython3",
   "version": "3.13.5"
  }
 },
 "nbformat": 4,
 "nbformat_minor": 5
}
