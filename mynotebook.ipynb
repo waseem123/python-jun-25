{
 "cells": [
  {
   "cell_type": "code",
   "execution_count": 45,
   "id": "2f942281-2f18-43e9-81b6-f733c5490fc6",
   "metadata": {},
   "outputs": [],
   "source": [
    "# This is a python file for revising all the basic concepts of Python"
   ]
  },
  {
   "cell_type": "code",
   "execution_count": 12,
   "id": "294aa57e-115d-4fdb-81fb-46e0fb831673",
   "metadata": {},
   "outputs": [
    {
     "name": "stdout",
     "output_type": "stream",
     "text": [
      "HI\n"
     ]
    }
   ],
   "source": [
    "import random as r\n",
    "print(\"HI\")"
   ]
  },
  {
   "cell_type": "code",
   "execution_count": 3,
   "id": "16f23ad8-e4af-4403-9b1a-60182e79cb9e",
   "metadata": {},
   "outputs": [
    {
     "data": {
      "text/plain": [
       "1000"
      ]
     },
     "execution_count": 3,
     "metadata": {},
     "output_type": "execute_result"
    }
   ],
   "source": [
    "a = 1000\n",
    "a"
   ]
  },
  {
   "cell_type": "code",
   "execution_count": 4,
   "id": "186dd9be-c728-4be1-b8d4-b629a111ebdb",
   "metadata": {},
   "outputs": [
    {
     "data": {
      "text/plain": [
       "2000"
      ]
     },
     "execution_count": 4,
     "metadata": {},
     "output_type": "execute_result"
    }
   ],
   "source": [
    "b = 2000\n",
    "b"
   ]
  },
  {
   "cell_type": "code",
   "execution_count": 5,
   "id": "f2bc72a1-f4f5-4461-9117-58ed8cc05018",
   "metadata": {},
   "outputs": [
    {
     "data": {
      "text/plain": [
       "3000"
      ]
     },
     "execution_count": 5,
     "metadata": {},
     "output_type": "execute_result"
    }
   ],
   "source": [
    "c = a + b\n",
    "c"
   ]
  },
  {
   "cell_type": "code",
   "execution_count": 7,
   "id": "c512f572-d40d-4cf8-9aae-136172c35e82",
   "metadata": {},
   "outputs": [
    {
     "name": "stdout",
     "output_type": "stream",
     "text": [
      "2000 30 60000\n"
     ]
    },
    {
     "data": {
      "text/plain": [
       "60000"
      ]
     },
     "execution_count": 7,
     "metadata": {},
     "output_type": "execute_result"
    }
   ],
   "source": [
    "a = 2000\n",
    "b = 30\n",
    "c = a * b\n",
    "print(a,b,c)\n",
    "c\n"
   ]
  },
  {
   "cell_type": "code",
   "execution_count": 8,
   "id": "4a959474-1e0b-451d-9c4c-12059866ba3f",
   "metadata": {},
   "outputs": [
    {
     "name": "stdout",
     "output_type": "stream",
     "text": [
      "['Solapur', 'Mumbai', 'Pune', 'Bengaluru', 'Chennai', 'Hyderabad']\n"
     ]
    }
   ],
   "source": [
    "mylist = ['Solapur','Mumbai','Pune','Bengaluru','Chennai','Hyderabad']\n",
    "print(mylist)"
   ]
  },
  {
   "cell_type": "code",
   "execution_count": 9,
   "id": "295f0e9b-9e91-43ee-a949-651c3f2d6834",
   "metadata": {},
   "outputs": [
    {
     "name": "stdout",
     "output_type": "stream",
     "text": [
      "Solapur\n"
     ]
    }
   ],
   "source": [
    "print(mylist[0])"
   ]
  },
  {
   "cell_type": "code",
   "execution_count": 10,
   "id": "381f0a73-bf4c-456a-ae4b-0244e36a8112",
   "metadata": {},
   "outputs": [
    {
     "name": "stdout",
     "output_type": "stream",
     "text": [
      "Chennai\n"
     ]
    }
   ],
   "source": [
    "print(mylist[4])"
   ]
  },
  {
   "cell_type": "code",
   "execution_count": 11,
   "id": "2f473153-9070-4067-8c1a-4c2dbd3d7bce",
   "metadata": {},
   "outputs": [
    {
     "name": "stdout",
     "output_type": "stream",
     "text": [
      "Solapur\n",
      "Mumbai\n",
      "Pune\n",
      "Bengaluru\n",
      "Chennai\n",
      "Hyderabad\n"
     ]
    }
   ],
   "source": [
    "for i in mylist:\n",
    "    print(i)"
   ]
  },
  {
   "cell_type": "code",
   "execution_count": 39,
   "id": "13b5e56c-e9a0-4005-a4bc-1fb677bf9646",
   "metadata": {},
   "outputs": [
    {
     "data": {
      "text/plain": [
       "34"
      ]
     },
     "execution_count": 39,
     "metadata": {},
     "output_type": "execute_result"
    }
   ],
   "source": [
    "r.randint(1,35)"
   ]
  },
  {
   "cell_type": "code",
   "execution_count": 41,
   "id": "c1a46522-4123-431b-ac00-e8499f85e41c",
   "metadata": {},
   "outputs": [
    {
     "data": {
      "text/plain": [
       "19"
      ]
     },
     "execution_count": 41,
     "metadata": {},
     "output_type": "execute_result"
    }
   ],
   "source": [
    "myfile = open(\"demo.txt\",\"w\")\n",
    "myfile.write(\"Written to the file\")\n"
   ]
  },
  {
   "cell_type": "code",
   "execution_count": 42,
   "id": "3c40d960-a60f-48f0-91a3-90848e87b198",
   "metadata": {},
   "outputs": [
    {
     "name": "stdout",
     "output_type": "stream",
     "text": [
      "Written to the file\n"
     ]
    }
   ],
   "source": [
    "myfile = open(\"demo.txt\",\"r\")\n",
    "print(myfile.read())"
   ]
  }
 ],
 "metadata": {
  "kernelspec": {
   "display_name": "Python [conda env:anaconda3]",
   "language": "python",
   "name": "conda-env-anaconda3-py"
  },
  "language_info": {
   "codemirror_mode": {
    "name": "ipython",
    "version": 3
   },
   "file_extension": ".py",
   "mimetype": "text/x-python",
   "name": "python",
   "nbconvert_exporter": "python",
   "pygments_lexer": "ipython3",
   "version": "3.13.5"
  }
 },
 "nbformat": 4,
 "nbformat_minor": 5
}
