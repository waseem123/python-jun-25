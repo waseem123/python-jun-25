{
 "cells": [
  {
   "cell_type": "code",
   "execution_count": 1,
   "id": "dcefa0c1-fe80-4afd-8443-1873f5f6e0de",
   "metadata": {},
   "outputs": [],
   "source": [
    "import numpy as np\n",
    "import pandas as pd\n",
    "import matplotlib.pyplot as plt"
   ]
  },
  {
   "cell_type": "code",
   "execution_count": 2,
   "id": "4a582a64-e11f-4256-9c48-e26396676474",
   "metadata": {},
   "outputs": [],
   "source": [
    "dataset = pd.read_csv('student-dataset.csv')"
   ]
  },
  {
   "cell_type": "code",
   "execution_count": 3,
   "id": "35c45dd1-1603-4979-ab46-c980584104b1",
   "metadata": {},
   "outputs": [
    {
     "data": {
      "text/html": [
       "<div>\n",
       "<style scoped>\n",
       "    .dataframe tbody tr th:only-of-type {\n",
       "        vertical-align: middle;\n",
       "    }\n",
       "\n",
       "    .dataframe tbody tr th {\n",
       "        vertical-align: top;\n",
       "    }\n",
       "\n",
       "    .dataframe thead th {\n",
       "        text-align: right;\n",
       "    }\n",
       "</style>\n",
       "<table border=\"1\" class=\"dataframe\">\n",
       "  <thead>\n",
       "    <tr style=\"text-align: right;\">\n",
       "      <th></th>\n",
       "      <th>rollno</th>\n",
       "      <th>name</th>\n",
       "      <th>c</th>\n",
       "      <th>cpp</th>\n",
       "      <th>java</th>\n",
       "      <th>total</th>\n",
       "      <th>percentage</th>\n",
       "      <th>grade</th>\n",
       "    </tr>\n",
       "  </thead>\n",
       "  <tbody>\n",
       "    <tr>\n",
       "      <th>0</th>\n",
       "      <td>1</td>\n",
       "      <td>Ayesha</td>\n",
       "      <td>75</td>\n",
       "      <td>86</td>\n",
       "      <td>89</td>\n",
       "      <td>250</td>\n",
       "      <td>83.33</td>\n",
       "      <td>A</td>\n",
       "    </tr>\n",
       "    <tr>\n",
       "      <th>1</th>\n",
       "      <td>2</td>\n",
       "      <td>Saadiya</td>\n",
       "      <td>78</td>\n",
       "      <td>87</td>\n",
       "      <td>88</td>\n",
       "      <td>253</td>\n",
       "      <td>84.33</td>\n",
       "      <td>A</td>\n",
       "    </tr>\n",
       "    <tr>\n",
       "      <th>2</th>\n",
       "      <td>3</td>\n",
       "      <td>Tarannum</td>\n",
       "      <td>84</td>\n",
       "      <td>85</td>\n",
       "      <td>89</td>\n",
       "      <td>258</td>\n",
       "      <td>86.00</td>\n",
       "      <td>A</td>\n",
       "    </tr>\n",
       "    <tr>\n",
       "      <th>3</th>\n",
       "      <td>4</td>\n",
       "      <td>Uzma</td>\n",
       "      <td>75</td>\n",
       "      <td>84</td>\n",
       "      <td>78</td>\n",
       "      <td>237</td>\n",
       "      <td>79.00</td>\n",
       "      <td>B</td>\n",
       "    </tr>\n",
       "    <tr>\n",
       "      <th>4</th>\n",
       "      <td>5</td>\n",
       "      <td>Saniya</td>\n",
       "      <td>55</td>\n",
       "      <td>41</td>\n",
       "      <td>44</td>\n",
       "      <td>140</td>\n",
       "      <td>46.67</td>\n",
       "      <td>D</td>\n",
       "    </tr>\n",
       "    <tr>\n",
       "      <th>5</th>\n",
       "      <td>6</td>\n",
       "      <td>Alfiya</td>\n",
       "      <td>75</td>\n",
       "      <td>76</td>\n",
       "      <td>77</td>\n",
       "      <td>228</td>\n",
       "      <td>76.00</td>\n",
       "      <td>B</td>\n",
       "    </tr>\n",
       "    <tr>\n",
       "      <th>6</th>\n",
       "      <td>7</td>\n",
       "      <td>Tanzeela</td>\n",
       "      <td>48</td>\n",
       "      <td>82</td>\n",
       "      <td>81</td>\n",
       "      <td>211</td>\n",
       "      <td>70.33</td>\n",
       "      <td>B</td>\n",
       "    </tr>\n",
       "    <tr>\n",
       "      <th>7</th>\n",
       "      <td>8</td>\n",
       "      <td>Simran</td>\n",
       "      <td>79</td>\n",
       "      <td>71</td>\n",
       "      <td>72</td>\n",
       "      <td>222</td>\n",
       "      <td>74.00</td>\n",
       "      <td>B</td>\n",
       "    </tr>\n",
       "    <tr>\n",
       "      <th>8</th>\n",
       "      <td>9</td>\n",
       "      <td>Shaheen</td>\n",
       "      <td>61</td>\n",
       "      <td>57</td>\n",
       "      <td>88</td>\n",
       "      <td>206</td>\n",
       "      <td>68.67</td>\n",
       "      <td>C</td>\n",
       "    </tr>\n",
       "    <tr>\n",
       "      <th>9</th>\n",
       "      <td>10</td>\n",
       "      <td>Munizah</td>\n",
       "      <td>91</td>\n",
       "      <td>92</td>\n",
       "      <td>93</td>\n",
       "      <td>276</td>\n",
       "      <td>92.00</td>\n",
       "      <td>A</td>\n",
       "    </tr>\n",
       "  </tbody>\n",
       "</table>\n",
       "</div>"
      ],
      "text/plain": [
       "   rollno      name   c  cpp  java  total  percentage grade\n",
       "0       1    Ayesha  75   86    89    250       83.33     A\n",
       "1       2   Saadiya  78   87    88    253       84.33     A\n",
       "2       3  Tarannum  84   85    89    258       86.00     A\n",
       "3       4      Uzma  75   84    78    237       79.00     B\n",
       "4       5    Saniya  55   41    44    140       46.67     D\n",
       "5       6    Alfiya  75   76    77    228       76.00     B\n",
       "6       7  Tanzeela  48   82    81    211       70.33     B\n",
       "7       8    Simran  79   71    72    222       74.00     B\n",
       "8       9   Shaheen  61   57    88    206       68.67     C\n",
       "9      10   Munizah  91   92    93    276       92.00     A"
      ]
     },
     "execution_count": 3,
     "metadata": {},
     "output_type": "execute_result"
    }
   ],
   "source": [
    "dataset"
   ]
  },
  {
   "cell_type": "code",
   "execution_count": 39,
   "id": "efcbdf15-2a3f-4a09-88cc-54d3e1e6e3ce",
   "metadata": {},
   "outputs": [],
   "source": [
    "data = dataset.groupby('grade')['percentage']\n",
    "xA = data.count()['A']\n",
    "xB = data.count()['B']\n",
    "xC = data.count()['C']\n",
    "xD = data.count()['D']"
   ]
  },
  {
   "cell_type": "code",
   "execution_count": 40,
   "id": "ff206c45-7da2-4e39-b3db-b2aa0f36b7c9",
   "metadata": {},
   "outputs": [
    {
     "data": {
      "text/plain": [
       "([<matplotlib.patches.Wedge at 0x263ec8ef750>,\n",
       "  <matplotlib.patches.Wedge at 0x263ec8efb10>,\n",
       "  <matplotlib.patches.Wedge at 0x263ec8efed0>,\n",
       "  <matplotlib.patches.Wedge at 0x263ec97c2d0>],\n",
       " [Text(0.33991865722907993, 1.0461621798113232, 'A'),\n",
       "  Text(-0.8899184718302892, -0.6465640830538323, 'B'),\n",
       "  Text(0.6465640158668551, -0.8899185206445168, 'C'),\n",
       "  Text(1.046162345950534, -0.33991814590467956, 'D')],\n",
       " [Text(0.18541017667040724, 0.5706339162607217, '40.0%'),\n",
       "  Text(-0.485410075543794, -0.352671318029363, '40.0%'),\n",
       "  Text(0.3526712813819209, -0.4854101021697364, '10.0%'),\n",
       "  Text(0.5706340068821094, -0.18540989776618885, '10.0%')])"
      ]
     },
     "execution_count": 40,
     "metadata": {},
     "output_type": "execute_result"
    },
    {
     "data": {
      "image/png": "[encoded data removed]",
      "text/plain": [
       "<Figure size 640x480 with 1 Axes>"
      ]
     },
     "metadata": {},
     "output_type": "display_data"
    }
   ],
   "source": [
    "plt.pie([xA,xB,xC,xD],labels=['A','B','C','D'],autopct='%1.1f%%')"
   ]
  },
  {
   "cell_type": "code",
   "execution_count": 42,
   "id": "97f38f9d-524e-4a00-a0a6-7f79df452fcc",
   "metadata": {},
   "outputs": [
    {
     "name": "stdout",
     "output_type": "stream",
     "text": [
      "92.0\n",
      "79.0\n",
      "68.67\n",
      "46.67\n"
     ]
    }
   ],
   "source": [
    "topA = data.max()['A']\n",
    "print(topA)\n",
    "topB = data.max()['B']\n",
    "print(topB)\n",
    "topC = data.max()['C']\n",
    "print(topC)\n",
    "topD = data.max()['D']\n",
    "print(topD)"
   ]
  },
  {
   "cell_type": "code",
   "execution_count": 45,
   "id": "cc83e86b-06ed-437c-b074-333ea0980f37",
   "metadata": {},
   "outputs": [
    {
     "data": {
      "image/png": "[encoded data removed]",
      "text/plain": [
       "<Figure size 640x480 with 1 Axes>"
      ]
     },
     "metadata": {},
     "output_type": "display_data"
    }
   ],
   "source": [
    "plt.bar(['A','B','C','D'],[topA,topB,topC,topD])\n",
    "plt.grid(axis='y', linestyle='--', alpha=0.6, color='lightgray')"
   ]
  }
 ],
 "metadata": {
  "kernelspec": {
   "display_name": "Python [conda env:anaconda3]",
   "language": "python",
   "name": "conda-env-anaconda3-py"
  },
  "language_info": {
   "codemirror_mode": {
    "name": "ipython",
    "version": 3
   },
   "file_extension": ".py",
   "mimetype": "text/x-python",
   "name": "python",
   "nbconvert_exporter": "python",
   "pygments_lexer": "ipython3",
   "version": "3.13.5"
  }
 },
 "nbformat": 4,
 "nbformat_minor": 5
}
