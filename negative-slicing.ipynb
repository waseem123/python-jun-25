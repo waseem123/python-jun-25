{
 "cells": [
  {
   "cell_type": "code",
   "execution_count": 2,
   "id": "5f9affd4-3006-4b08-bf01-4ed5d2ee4186",
   "metadata": {},
   "outputs": [],
   "source": [
    "import numpy as np"
   ]
  },
  {
   "cell_type": "code",
   "execution_count": 6,
   "id": "93d5e46a-79ba-432a-8176-d0850a73a903",
   "metadata": {},
   "outputs": [
    {
     "data": {
      "text/plain": [
       "11"
      ]
     },
     "execution_count": 6,
     "metadata": {},
     "output_type": "execute_result"
    }
   ],
   "source": [
    "arr = np.array(['iPhone','Samsung','OnePlus','Nothing','Redmi','Vivo','Oppo','Poco','Techno','Moto','Realme'])\n",
    "len(arr)"
   ]
  },
  {
   "cell_type": "code",
   "execution_count": 9,
   "id": "746aef73-2ee7-41e8-ad43-e6b32ad37674",
   "metadata": {},
   "outputs": [
    {
     "name": "stdout",
     "output_type": "stream",
     "text": [
      "Realme\n",
      "Moto\n",
      "Techno\n",
      "Poco\n"
     ]
    }
   ],
   "source": [
    "print(arr[-1])\n",
    "print(arr[-2])\n",
    "print(arr[-3])\n",
    "print(arr[-4])"
   ]
  },
  {
   "cell_type": "code",
   "execution_count": 12,
   "id": "0b6ba906-2949-4491-8072-a0e04aee7c39",
   "metadata": {},
   "outputs": [
    {
     "name": "stdout",
     "output_type": "stream",
     "text": [
      "Nothing\n",
      "Samsung\n",
      "iPhone\n"
     ]
    }
   ],
   "source": [
    "print(arr[-8])\n",
    "print(arr[-10])\n",
    "print(arr[-11])"
   ]
  },
  {
   "cell_type": "code",
   "execution_count": 13,
   "id": "6934ac52-023c-4cc0-8f28-4b6941c4cffb",
   "metadata": {},
   "outputs": [
    {
     "data": {
      "text/plain": [
       "array(['iPhone', 'Samsung', 'OnePlus', 'Nothing', 'Redmi', 'Vivo', 'Oppo',\n",
       "       'Poco', 'Techno', 'Moto', 'Realme'], dtype='<U7')"
      ]
     },
     "execution_count": 13,
     "metadata": {},
     "output_type": "execute_result"
    }
   ],
   "source": [
    "arr"
   ]
  },
  {
   "cell_type": "code",
   "execution_count": 17,
   "id": "fc38dd0b-cafa-48e8-a4d2-c57cfd671da2",
   "metadata": {},
   "outputs": [
    {
     "name": "stdout",
     "output_type": "stream",
     "text": [
      "Realme\n",
      "Moto\n",
      "Techno\n",
      "Poco\n",
      "Oppo\n",
      "Vivo\n",
      "Redmi\n",
      "Nothing\n",
      "OnePlus\n",
      "Samsung\n",
      "iPhone\n"
     ]
    }
   ],
   "source": [
    "for i in range(1,12):\n",
    "    print(arr[-i])"
   ]
  },
  {
   "cell_type": "code",
   "execution_count": 21,
   "id": "a105017b-20ce-4bc9-bc29-7100105aed34",
   "metadata": {},
   "outputs": [
    {
     "name": "stdout",
     "output_type": "stream",
     "text": [
      "['iPhone' 'Samsung' 'OnePlus' 'Nothing' 'Redmi' 'Vivo' 'Oppo' 'Poco'\n",
      " 'Techno' 'Moto']\n",
      "['iPhone' 'Samsung' 'OnePlus' 'Nothing' 'Redmi' 'Vivo' 'Oppo' 'Poco'\n",
      " 'Techno' 'Moto' 'Realme']\n"
     ]
    }
   ],
   "source": [
    "print(arr[-11:-1])\n",
    "print(arr)"
   ]
  },
  {
   "cell_type": "code",
   "execution_count": 22,
   "id": "afb8e3c0-7838-4a06-bee6-cb266d44b67c",
   "metadata": {},
   "outputs": [
    {
     "name": "stdout",
     "output_type": "stream",
     "text": [
      "['Oppo' 'Poco' 'Techno']\n"
     ]
    }
   ],
   "source": [
    "print(arr[-5:-2])"
   ]
  },
  {
   "cell_type": "code",
   "execution_count": 23,
   "id": "a61e206c-91ac-4e4d-bcb5-ed5df471a009",
   "metadata": {},
   "outputs": [
    {
     "name": "stdout",
     "output_type": "stream",
     "text": [
      "['iPhone' 'Samsung' 'OnePlus' 'Nothing' 'Redmi']\n"
     ]
    }
   ],
   "source": [
    "print(arr[:-6])"
   ]
  },
  {
   "cell_type": "code",
   "execution_count": 24,
   "id": "5af7c09a-a886-4277-ad88-2245c8e59969",
   "metadata": {},
   "outputs": [
    {
     "name": "stdout",
     "output_type": "stream",
     "text": [
      "['Nothing' 'Redmi' 'Vivo' 'Oppo' 'Poco' 'Techno' 'Moto' 'Realme']\n"
     ]
    }
   ],
   "source": [
    "print(arr[-8:])"
   ]
  },
  {
   "cell_type": "code",
   "execution_count": 25,
   "id": "8cb369fa-e3b4-4e8a-aab5-8b20a677a433",
   "metadata": {},
   "outputs": [
    {
     "name": "stdout",
     "output_type": "stream",
     "text": [
      "['OnePlus' 'Nothing' 'Redmi' 'Vivo']\n"
     ]
    }
   ],
   "source": [
    "print(arr[2:-5])"
   ]
  },
  {
   "cell_type": "code",
   "execution_count": null,
   "id": "8fafb440-cc24-4a54-9072-0ec1dab18e71",
   "metadata": {},
   "outputs": [],
   "source": []
  }
 ],
 "metadata": {
  "kernelspec": {
   "display_name": "Python [conda env:anaconda3]",
   "language": "python",
   "name": "conda-env-anaconda3-py"
  },
  "language_info": {
   "codemirror_mode": {
    "name": "ipython",
    "version": 3
   },
   "file_extension": ".py",
   "mimetype": "text/x-python",
   "name": "python",
   "nbconvert_exporter": "python",
   "pygments_lexer": "ipython3",
   "version": "3.13.5"
  }
 },
 "nbformat": 4,
 "nbformat_minor": 5
}
