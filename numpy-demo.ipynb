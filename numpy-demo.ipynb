{
 "cells": [
  {
   "cell_type": "code",
   "execution_count": 1,
   "id": "c494ecdc-811e-4d48-9b9d-e4964a7ec0b2",
   "metadata": {},
   "outputs": [],
   "source": [
    "import numpy as np"
   ]
  },
  {
   "cell_type": "code",
   "execution_count": 2,
   "id": "bd4e34e2-6226-457a-9c81-aadfe46e3e59",
   "metadata": {},
   "outputs": [],
   "source": [
    "mobilePhones = np.array([\n",
    "    'iPhone','Samsung','OnePlus','Nothing'\n",
    "])"
   ]
  },
  {
   "cell_type": "code",
   "execution_count": 4,
   "id": "40fbecd9-bf73-4377-9dfa-dd0f60ec01de",
   "metadata": {},
   "outputs": [
    {
     "name": "stdout",
     "output_type": "stream",
     "text": [
      "['iPhone' 'Samsung' 'OnePlus' 'Nothing']\n",
      "<class 'numpy.ndarray'>\n"
     ]
    }
   ],
   "source": [
    "print(mobilePhones)\n",
    "print(type(mobilePhones))"
   ]
  },
  {
   "cell_type": "code",
   "execution_count": 18,
   "id": "2f9a5250-3f54-4cd3-b784-9936fa43e9d0",
   "metadata": {},
   "outputs": [
    {
     "name": "stdout",
     "output_type": "stream",
     "text": [
      "[['iPhone 11' 'iPhone 12' 'iPhone 14']\n",
      " ['Samsung mini' 'Samsung Galaxy S23 Ultra' 's 24 Ultra']]\n"
     ]
    }
   ],
   "source": [
    "mobilePhones = np.array([\n",
    "    ['iPhone 11','iPhone 12','iPhone 14'],\n",
    "    ['Samsung mini','Samsung Galaxy S23 Ultra','s 24 Ultra'],\n",
    "])\n",
    "\n",
    "print(mobilePhones)"
   ]
  }
 ],
 "metadata": {
  "kernelspec": {
   "display_name": "Python [conda env:anaconda3]",
   "language": "python",
   "name": "conda-env-anaconda3-py"
  },
  "language_info": {
   "codemirror_mode": {
    "name": "ipython",
    "version": 3
   },
   "file_extension": ".py",
   "mimetype": "text/x-python",
   "name": "python",
   "nbconvert_exporter": "python",
   "pygments_lexer": "ipython3",
   "version": "3.13.5"
  }
 },
 "nbformat": 4,
 "nbformat_minor": 5
}
